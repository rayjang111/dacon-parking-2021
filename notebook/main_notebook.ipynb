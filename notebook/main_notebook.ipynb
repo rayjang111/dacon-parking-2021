{
 "cells": [
  {
   "cell_type": "code",
   "execution_count": 873,
   "metadata": {},
   "outputs": [],
   "source": [
    "import re\n",
    "\n",
    "import numpy as np\n",
    "import pandas as pd\n",
    "import datetime\n",
    "import random\n",
    "\n",
    "import matplotlib.pyplot as plt\n",
    "import matplotlib\n",
    "import seaborn as sns\n",
    "from sklearn.decomposition import PCA\n",
    "from sklearn.linear_model import LogisticRegression\n",
    "from sklearn.model_selection import KFold, cross_val_score\n",
    "from sklearn.preprocessing import StandardScaler, LabelEncoder\n",
    "from scipy.stats import skew, norm\n",
    "from scipy.special import boxcox1p\n",
    "from scipy.stats import boxcox_normmax\n",
    "\n",
    "# models\n",
    "from catboost import CatBoostRegressor\n",
    "from sklearn.ensemble import RandomForestRegressor, GradientBoostingRegressor, AdaBoostRegressor, BaggingRegressor\n",
    "from sklearn.kernel_ridge import KernelRidge\n",
    "from sklearn.linear_model import Ridge, RidgeCV\n",
    "from sklearn.linear_model import ElasticNet, ElasticNetCV\n",
    "from sklearn.svm import SVR\n",
    "from mlxtend.regressor import StackingCVRegressor\n",
    "import lightgbm as lgb\n",
    "from lightgbm import LGBMRegressor\n",
    "from xgboost import XGBRegressor\n",
    "\n",
    "# Misc\n",
    "from sklearn.model_selection import GridSearchCV\n",
    "from sklearn.model_selection import KFold, cross_val_score\n",
    "from sklearn.metrics import mean_squared_error\n",
    "from sklearn.preprocessing import OneHotEncoder\n",
    "from sklearn.preprocessing import LabelEncoder\n",
    "from sklearn.pipeline import make_pipeline\n",
    "from sklearn.preprocessing import scale\n",
    "from sklearn.preprocessing import StandardScaler\n",
    "from sklearn.preprocessing import RobustScaler\n",
    "from sklearn.decomposition import PCA\n",
    "\n",
    "pd.set_option('display.max_columns', None)\n",
    "\n",
    "import warnings\n",
    "###font 다운로드 필요: https://hangeul.naver.com/\n",
    "# font manager을 활용해서 설정\n",
    "# site-packages/matplotlib/mpl-data/fonts 로 ttf 파일 이동\n",
    "# from matplotlib import font_manager\n",
    "# font_manager._rebuild()\n",
    "warnings.filterwarnings(action='ignore')\n",
    "plt.rc('font', family='NanumGothic')\n",
    "matplotlib.rcParams['axes.unicode_minus']=False\n"
   ]
  },
  {
   "cell_type": "code",
   "execution_count": 874,
   "metadata": {},
   "outputs": [],
   "source": [
    "train = pd.read_csv('../data/train.csv')\n",
    "test = pd.read_csv('../data/test.csv')\n",
    "age_gender_info = pd.read_csv('../data/age_gender_info.csv')\n",
    "sample_submission = pd.read_csv('../data/sample_submission.csv')\n",
    "# ['단지코드', '총세대수', '임대건물구분', '지역', '공급유형', '전용면적', '전용면적별세대수', '공가수',\n",
    "#        '자격유형', '임대보증금', '임대료', '도보 10분거리 내 지하철역 수(환승노선 수 반영)',\n",
    "#        '도보 10분거리 내 버스정류장 수', '단지내주차면수', '등록차량수']\n",
    "duplicate_cols = ['임대건물구분', '공급유형', '자격유형', '전용면적', '전용면적별세대수', '임대보증금', '임대료']\n",
    "unique_cols = ['총세대수', '지역', '공가수', '도보 10분거리 내 지하철역 수(환승노선 수 반영)', '도보 10분거리 내 버스정류장 수', '단지내주차면수']\n",
    "target_col = ['등록차량수']\n",
    "id_col = ['단지코드']"
   ]
  },
  {
   "cell_type": "code",
   "execution_count": 875,
   "metadata": {},
   "outputs": [],
   "source": [
    "# fix errors\n",
    "# number 3 error\n",
    "train = train[~train['단지코드'].isin(['C1095', 'C2051', 'C1218', 'C1894', 'C2483', 'C1502', 'C1988'])]\n",
    "###number 2 error\n",
    "train = train[~train['단지코드'].isin(['C2085', 'C1397', 'C2431', 'C1649', 'C1036'])]\n",
    "\n",
    "##drop duplicate false/true\n",
    "Option = False\n",
    "if Option:\n",
    "    train = train.drop_duplicates()\n",
    "    test = test.drop_duplicates()\n",
    "if not Option:\n",
    "    pass\n"
   ]
  },
  {
   "cell_type": "code",
   "execution_count": 876,
   "metadata": {},
   "outputs": [],
   "source": [
    "# train, test 합치기\n",
    "train_ids = np.unique(train['단지코드'])\n",
    "test_ids = sample_submission['code']\n",
    "df = pd.concat([train, test])"
   ]
  },
  {
   "cell_type": "code",
   "execution_count": 877,
   "metadata": {},
   "outputs": [],
   "source": [
    "### 버스 지하철\n",
    "cols = ['도보 10분거리 내 지하철역 수(환승노선 수 반영)', '도보 10분거리 내 버스정류장 수']\n",
    "df[cols] = df[cols].fillna(0)"
   ]
  },
  {
   "cell_type": "code",
   "execution_count": 878,
   "metadata": {},
   "outputs": [],
   "source": [
    "###자격유형 전처리\n",
    "### test 데이터 자격유형 null값처리\n",
    "df.loc[df.단지코드.isin(['C2411']) & df.자격유형.isnull(), '자격유형'] = 'A'\n",
    "df.loc[df.단지코드.isin(['C2253']) & df.자격유형.isnull(), '자격유형'] = 'C'\n",
    "\n",
    "df.loc[df.자격유형.isin(['B','F','O']),\"자격유형\"] = '이외'"
   ]
  },
  {
   "cell_type": "markdown",
   "metadata": {},
   "source": [
    "###단지 drop 확인\n",
    "df = df.drop(['자격유형'],axis=1)"
   ]
  },
  {
   "cell_type": "code",
   "execution_count": 879,
   "metadata": {},
   "outputs": [],
   "source": [
    "### 임대보증금 임대료\n",
    "df.loc[df.임대보증금 == '-', '임대보증금'] = np.nan\n",
    "df['임대보증금'] = df['임대보증금'].astype(float)\n",
    "df.loc[df.임대료 == '-', '임대료'] = np.nan\n",
    "df['임대료'] = df['임대료'].astype(float)\n",
    "df[['임대보증금', '임대료']] = df[['임대보증금', '임대료']].fillna(0)\n",
    "\n",
    "# df_agg 생성, with only unique columns\n",
    "df_agg = df[id_col + unique_cols + target_col].drop_duplicates().set_index('단지코드')"
   ]
  },
  {
   "cell_type": "code",
   "execution_count": 880,
   "metadata": {},
   "outputs": [],
   "source": [
    "###reshape_cat_features 함수\n",
    "def reshape_cat_features(data, cast_col, value_col):\n",
    "    res = data.drop_duplicates(['단지코드', cast_col]).assign(counter=1).pivot(index='단지코드', columns=cast_col,\n",
    "                                                                           values=value_col).fillna(0)\n",
    "    res.columns.name = None\n",
    "    res = res.rename(columns={col:  col + \"_existence\" for col in res.columns})\n",
    "    return res\n",
    "\n",
    "\n",
    "###count_cat_features 함수\n",
    "def count_cat_features(data, cast_col):\n",
    "    new_df = data.groupby(['단지코드', cast_col]).agg({\"임대료\": \"count\"}).reset_index(cast_col).pivot(columns=[cast_col])\n",
    "    new_df = new_df.fillna(0)\n",
    "    new_df.columns = new_df.columns.droplevel(0)\n",
    "    new_df.columns = [column + \"_count\" for column in new_df.columns]\n",
    "    return new_df\n",
    "\n",
    "\n",
    "## 자격유형,임대건물 구분 존재유무 합쳐주기\n",
    "df_agg = pd.concat([df_agg,\n",
    "                    reshape_cat_features(data=df, cast_col='임대건물구분', value_col='counter'),\n",
    "                    reshape_cat_features(data=df, cast_col='공급유형', value_col='counter'),\n",
    "                    reshape_cat_features(data=df, cast_col='자격유형', value_col='counter')\n",
    "                   ], axis=1)\n",
    "\n",
    "###자격유형,임대건물 구분 개수 합쳐주기\n",
    "df_agg = pd.concat([df_agg,\n",
    "                    count_cat_features(data=df, cast_col='임대건물구분'),\n",
    "                    count_cat_features(data=df, cast_col='공급유형'),\n",
    "                    count_cat_features(data=df, cast_col='자격유형')\n",
    "                   ], axis=1)"
   ]
  },
  {
   "cell_type": "code",
   "execution_count": 881,
   "metadata": {},
   "outputs": [],
   "source": [
    "###총 임대 가구수 변수 생성\n",
    "total_houses = df.groupby('단지코드').agg({'전용면적별세대수': sum})\n",
    "total_houses.columns = ['전용면적별세대수_total']\n",
    "\n",
    "###전용면적별 비율 더해주기\n",
    "def sum_cat_features(data, cast_col, sum_col):\n",
    "    new_df = data.groupby(['단지코드', cast_col]).agg({sum_col: sum}).reset_index(cast_col).pivot(columns=[cast_col])\n",
    "    new_df = new_df.fillna(0)\n",
    "    new_df.columns = new_df.columns.droplevel(0)\n",
    "    new_df.columns = [str(column) + \"_portion\" for column in new_df.columns]\n",
    "    return new_df\n",
    "\n",
    "df['전용면적%10']= (df['전용면적']//10)*10\n",
    "df.loc[df['전용면적%10']>60,'전용면적%10'] = 60\n",
    "df.loc[df['전용면적%10']<20,'전용면적%10'] = 20\n",
    "new_df = sum_cat_features(df,'전용면적%10','전용면적별세대수')\n",
    "columns=new_df.columns\n",
    "new_df = pd.concat([new_df, total_houses],axis=1)\n",
    "for column in columns:\n",
    "    new_df[column]=new_df[column]/new_df['전용면적별세대수_total']\n",
    "# new_df = new_df.drop(['전용면적별세대수'],axis=1)\n",
    "df_agg= pd.concat([df_agg, new_df],axis=1)\n",
    "#drop 전용면적별세대수_total\n",
    "df_agg = df_agg.drop(['전용면적별세대수_total'], axis=1)\n"
   ]
  },
  {
   "cell_type": "code",
   "execution_count": 882,
   "metadata": {},
   "outputs": [],
   "source": [
    "##옆면적 더해주기\n",
    "df['전용면적*전용면적별 세대수'] = df['전용면적']*df['전용면적별세대수']\n",
    "df_sum_agg = df.groupby('단지코드').agg({'전용면적*전용면적별 세대수':sum})\n",
    "df_agg = pd.concat([df_agg, df_sum_agg],axis=1)\n",
    "\n",
    "###(전용면적)*(전용면적별 세대수)/총세대수\n",
    "df_agg['전용면적*전용면적별 세대수/총 세대수'] = df_agg['전용면적*전용면적별 세대수']/df_agg['총세대수']"
   ]
  },
  {
   "cell_type": "code",
   "execution_count": 883,
   "metadata": {},
   "outputs": [],
   "source": [
    "###local parking 추가\n",
    "local_parking = pd.read_csv('../data/local parking.csv')\n",
    "local_parking['호수/총대수'] = local_parking['호수']/local_parking['총대수']\n",
    "df_agg = pd.merge(df_agg.reset_index(),local_parking[{'호수/총대수','지역'}],how='left',on='지역').set_index('단지코드')"
   ]
  },
  {
   "cell_type": "code",
   "execution_count": 884,
   "metadata": {},
   "outputs": [],
   "source": [
    "###gender_info 성별별 차소유 비율과 합쳐 추가\n",
    "age_gender_info = age_gender_info.set_index('지역')\n",
    "age_gender_info['90대(남자)']=age_gender_info['90대(남자)']+age_gender_info['100대(남자)']\n",
    "age_gender_info['90대(여자)']=age_gender_info['90대(여자)']+age_gender_info['100대(여자)']\n",
    "age_gender_info['10대(남자)']=age_gender_info['10대미만(남자)']+age_gender_info['10대(남자)']\n",
    "age_gender_info['10대(여자)']=age_gender_info['10대미만(여자)']+age_gender_info['10대(여자)']\n",
    "age_gender_info= age_gender_info.drop(columns=['100대(남자)','100대(여자)','10대미만(남자)','10대미만(여자)'])\n",
    "men_compile = re.compile(\"남자\")\n",
    "men_columns = []\n",
    "women_compile = re.compile(\"여자\")\n",
    "women_columns = []\n",
    "for column in age_gender_info.columns:\n",
    "    if men_compile.search(column):\n",
    "        men_columns.append(column)\n",
    "    if women_compile.search(column):\n",
    "        women_columns.append(column)\n",
    "gender_age_car_data = pd.read_csv(\"../data/gender_age_car_data.csv\")\n",
    "age_gender_info['men_sum']=age_gender_info[men_columns].values.dot(gender_age_car_data['men'])\n",
    "age_gender_info['women_sum']=age_gender_info[women_columns].values.dot(gender_age_car_data['women'])\n",
    "age_gender_info['men_women_sum']=age_gender_info['men_sum']+age_gender_info['women_sum']\n",
    "age_gender_info=age_gender_info['men_women_sum'].reset_index()\n",
    "df_agg = pd.merge(df_agg.reset_index(),age_gender_info, how='left', on='지역').set_index('단지코드')"
   ]
  },
  {
   "cell_type": "markdown",
   "metadata": {},
   "source": [
    "###trainset만 활용한 순위 변수 추가\n",
    "train = df[~df.등록차량수.isna()]\n",
    "test=df[df.등록차량수.isna()]\n",
    "\n",
    "qualification_map=dict()\n",
    "count=0\n",
    "for i in train['자격유형'].value_counts().index:\n",
    "    qualification_map[i]=count\n",
    "    count+=1\n",
    "\n",
    "df['자격유형_rank'] = df['자격유형'].map(qualification_map)\n",
    "\n",
    "supply_map=dict()\n",
    "count=0\n",
    "for i in train['공급유형'].value_counts().index:\n",
    "    supply_map[i]=count\n",
    "    count+=1\n",
    "\n",
    "df['공급유형_rank'] = df['공급유형'].map(supply_map)\n",
    "\n",
    "rank_to_agg = df[['단지코드','자격유형_rank','공급유형_rank']].groupby('단지코드').agg({'자격유형_rank':[sum, \"mean\", \"std\",\"min\",\"max\"], '공급유형_rank':[sum, \"mean\", \"std\",\"min\",\"max\"]})\n",
    "rank_to_agg.columns= [ i+\"_\" +j for i,j in rank_to_agg.columns ]\n",
    "\n",
    "df_agg = pd.concat([df_agg,\n",
    "                    rank_to_agg,\n",
    "                   ], axis=1)"
   ]
  },
  {
   "cell_type": "markdown",
   "metadata": {},
   "source": [
    "#정규화\n",
    "train_agg = df_agg[~df_agg.등록차량수.isna()]\n",
    "numeric_features = train_agg.select_dtypes(exclude=\"object\").columns.drop(['등록차량수']).tolist()\n",
    "scaler = StandardScaler()\n",
    "scaler.fit(train_agg[numeric_features])\n",
    "scaled_features_train = pd.DataFrame(scaler.transform(train_agg[numeric_features])).fillna(0)\n",
    "scaled_features= pd.DataFrame(scaler.transform(df_agg[numeric_features])).fillna(0)"
   ]
  },
  {
   "cell_type": "markdown",
   "metadata": {},
   "source": [
    "#pca\n",
    "pca=PCA(n_components=10)\n",
    "pca.fit(scaled_features_train)\n",
    "pca_dataframe = pd.DataFrame(pca.transform(scaled_features),index = df_agg.index)\n",
    "pca_dataframe.columns = [\"PCA_\"+str(column) for column in pca_dataframe.columns]\n",
    "df_agg = pd.concat([df_agg,\n",
    "                    pca_dataframe\n",
    "                   ], axis=1)\n"
   ]
  },
  {
   "cell_type": "code",
   "execution_count": 885,
   "metadata": {
    "scrolled": true
   },
   "outputs": [
    {
     "data": {
      "text/plain": [
       "Index(['총세대수', '지역', '공가수', '도보 10분거리 내 지하철역 수(환승노선 수 반영)',\n",
       "       '도보 10분거리 내 버스정류장 수', '단지내주차면수', '등록차량수', '상가_existence',\n",
       "       '아파트_existence', '공공분양_existence', '공공임대(10년)_existence',\n",
       "       '공공임대(50년)_existence', '공공임대(5년)_existence', '공공임대(분납)_existence',\n",
       "       '국민임대_existence', '영구임대_existence', '임대상가_existence', '장기전세_existence',\n",
       "       '행복주택_existence', 'A_existence', 'C_existence', 'D_existence',\n",
       "       'E_existence', 'G_existence', 'H_existence', 'I_existence',\n",
       "       'J_existence', 'K_existence', 'L_existence', 'M_existence',\n",
       "       'N_existence', '이외_existence', '상가_count', '아파트_count', '공공분양_count',\n",
       "       '공공임대(10년)_count', '공공임대(50년)_count', '공공임대(5년)_count',\n",
       "       '공공임대(분납)_count', '국민임대_count', '영구임대_count', '임대상가_count',\n",
       "       '장기전세_count', '행복주택_count', 'A_count', 'C_count', 'D_count', 'E_count',\n",
       "       'G_count', 'H_count', 'I_count', 'J_count', 'K_count', 'L_count',\n",
       "       'M_count', 'N_count', '이외_count', '20.0_portion', '30.0_portion',\n",
       "       '40.0_portion', '50.0_portion', '60.0_portion', '전용면적*전용면적별 세대수',\n",
       "       '전용면적*전용면적별 세대수/총 세대수', '호수/총대수', 'men_women_sum'],\n",
       "      dtype='object')"
      ]
     },
     "execution_count": 885,
     "metadata": {},
     "output_type": "execute_result"
    }
   ],
   "source": [
    "df_agg.columns"
   ]
  },
  {
   "cell_type": "code",
   "execution_count": 886,
   "metadata": {},
   "outputs": [
    {
     "name": "stdout",
     "output_type": "stream",
     "text": [
      "['지역']\n"
     ]
    }
   ],
   "source": [
    "##cat_features 선택\n",
    "cat_features=df_agg.select_dtypes(include=\"object\").columns.tolist()\n",
    "print(cat_features)\n"
   ]
  },
  {
   "cell_type": "code",
   "execution_count": 887,
   "metadata": {},
   "outputs": [],
   "source": [
    "#encode categorical features\n",
    "df_agg = pd.get_dummies(df_agg)"
   ]
  },
  {
   "cell_type": "markdown",
   "metadata": {},
   "source": [
    "# 데이터 파악 & 시각화"
   ]
  },
  {
   "cell_type": "code",
   "execution_count": 888,
   "metadata": {},
   "outputs": [
    {
     "name": "stdout",
     "output_type": "stream",
     "text": [
      "(411, 81) (150, 81)\n"
     ]
    }
   ],
   "source": [
    "train_agg = df_agg[~df_agg.등록차량수.isna()]\n",
    "test_agg = df_agg[df_agg.등록차량수.isna()]\n",
    "print(train_agg.shape, test_agg.shape)"
   ]
  },
  {
   "cell_type": "code",
   "execution_count": 889,
   "metadata": {},
   "outputs": [],
   "source": [
    "cat_features = train_agg.select_dtypes(include=\"object\").columns.tolist()"
   ]
  },
  {
   "cell_type": "code",
   "execution_count": 890,
   "metadata": {},
   "outputs": [],
   "source": [
    "numeric_features = train_agg.select_dtypes(exclude=\"object\").columns.drop(['등록차량수']).tolist()"
   ]
  },
  {
   "cell_type": "code",
   "execution_count": 891,
   "metadata": {
    "scrolled": true
   },
   "outputs": [
    {
     "data": {
      "text/plain": [
       "['총세대수',\n",
       " '공가수',\n",
       " '도보 10분거리 내 지하철역 수(환승노선 수 반영)',\n",
       " '도보 10분거리 내 버스정류장 수',\n",
       " '단지내주차면수',\n",
       " '상가_existence',\n",
       " '아파트_existence',\n",
       " '공공분양_existence',\n",
       " '공공임대(10년)_existence',\n",
       " '공공임대(50년)_existence',\n",
       " '공공임대(5년)_existence',\n",
       " '공공임대(분납)_existence',\n",
       " '국민임대_existence',\n",
       " '영구임대_existence',\n",
       " '임대상가_existence',\n",
       " '장기전세_existence',\n",
       " '행복주택_existence',\n",
       " 'A_existence',\n",
       " 'C_existence',\n",
       " 'D_existence',\n",
       " 'E_existence',\n",
       " 'G_existence',\n",
       " 'H_existence',\n",
       " 'I_existence',\n",
       " 'J_existence',\n",
       " 'K_existence',\n",
       " 'L_existence',\n",
       " 'M_existence',\n",
       " 'N_existence',\n",
       " '이외_existence',\n",
       " '상가_count',\n",
       " '아파트_count',\n",
       " '공공분양_count',\n",
       " '공공임대(10년)_count',\n",
       " '공공임대(50년)_count',\n",
       " '공공임대(5년)_count',\n",
       " '공공임대(분납)_count',\n",
       " '국민임대_count',\n",
       " '영구임대_count',\n",
       " '임대상가_count',\n",
       " '장기전세_count',\n",
       " '행복주택_count',\n",
       " 'A_count',\n",
       " 'C_count',\n",
       " 'D_count',\n",
       " 'E_count',\n",
       " 'G_count',\n",
       " 'H_count',\n",
       " 'I_count',\n",
       " 'J_count',\n",
       " 'K_count',\n",
       " 'L_count',\n",
       " 'M_count',\n",
       " 'N_count',\n",
       " '이외_count',\n",
       " '20.0_portion',\n",
       " '30.0_portion',\n",
       " '40.0_portion',\n",
       " '50.0_portion',\n",
       " '60.0_portion',\n",
       " '전용면적*전용면적별 세대수',\n",
       " '전용면적*전용면적별 세대수/총 세대수',\n",
       " '호수/총대수',\n",
       " 'men_women_sum',\n",
       " '지역_강원도',\n",
       " '지역_경기도',\n",
       " '지역_경상남도',\n",
       " '지역_경상북도',\n",
       " '지역_광주광역시',\n",
       " '지역_대구광역시',\n",
       " '지역_대전광역시',\n",
       " '지역_부산광역시',\n",
       " '지역_서울특별시',\n",
       " '지역_세종특별자치시',\n",
       " '지역_울산광역시',\n",
       " '지역_전라남도',\n",
       " '지역_전라북도',\n",
       " '지역_제주특별자치도',\n",
       " '지역_충청남도',\n",
       " '지역_충청북도']"
      ]
     },
     "execution_count": 891,
     "metadata": {},
     "output_type": "execute_result"
    }
   ],
   "source": [
    "numeric_features"
   ]
  },
  {
   "cell_type": "code",
   "execution_count": 892,
   "metadata": {},
   "outputs": [],
   "source": [
    "target_feature = '등록차량수'"
   ]
  },
  {
   "cell_type": "markdown",
   "metadata": {},
   "source": [
    "### lm plot"
   ]
  },
  {
   "cell_type": "markdown",
   "metadata": {},
   "source": [
    "for i , col in enumerate(numeric_features):\n",
    "    sns.lmplot(x=col ,y=target_feature , data=train_agg)"
   ]
  },
  {
   "cell_type": "markdown",
   "metadata": {},
   "source": [
    "### box plot"
   ]
  },
  {
   "cell_type": "markdown",
   "metadata": {
    "scrolled": true
   },
   "source": [
    "fig, ax_list = plt.subplots(nrows = len(numeric_features), ncols=1, figsize= (12,400))\n",
    "for i , col in enumerate(numeric_features):\n",
    "    sns.boxplot(x=col ,y=target_feature , data=train_agg, ax=ax_list[i])"
   ]
  },
  {
   "cell_type": "markdown",
   "metadata": {},
   "source": [
    "### hist plot on train, test"
   ]
  },
  {
   "cell_type": "markdown",
   "metadata": {},
   "source": [
    "fig, ax_list = plt.subplots(nrows = len(numeric_features), ncols=2, figsize= (12,400))\n",
    "for i , col in enumerate(numeric_features):\n",
    "    sns.histplot(data = train_agg, x= col, ax= ax_list[i,0], color= 'b')\n",
    "    sns.histplot(data = test_agg, x= col, ax= ax_list[i,1], color = 'r')"
   ]
  },
  {
   "cell_type": "markdown",
   "metadata": {},
   "source": [
    "### compare dist of train, test"
   ]
  },
  {
   "cell_type": "markdown",
   "metadata": {},
   "source": [
    "fig, ax_list = plt.subplots(nrows = len(numeric_features), figsize= (12,400))\n",
    "for i , col in enumerate(numeric_features):\n",
    "    sns.distplot(train_agg[col], ax= ax_list[i], hist=False, rug=True, color= 'b')\n",
    "    sns.distplot(test_agg[col], ax= ax_list[i],hist=False, rug=True, color = 'r')"
   ]
  },
  {
   "cell_type": "code",
   "execution_count": 893,
   "metadata": {},
   "outputs": [
    {
     "data": {
      "text/plain": [
       "Index(['총세대수', '공가수', '도보 10분거리 내 지하철역 수(환승노선 수 반영)', '도보 10분거리 내 버스정류장 수',\n",
       "       '단지내주차면수', '등록차량수', '상가_existence', '아파트_existence', '공공분양_existence',\n",
       "       '공공임대(10년)_existence', '공공임대(50년)_existence', '공공임대(5년)_existence',\n",
       "       '공공임대(분납)_existence', '국민임대_existence', '영구임대_existence',\n",
       "       '임대상가_existence', '장기전세_existence', '행복주택_existence', 'A_existence',\n",
       "       'C_existence', 'D_existence', 'E_existence', 'G_existence',\n",
       "       'H_existence', 'I_existence', 'J_existence', 'K_existence',\n",
       "       'L_existence', 'M_existence', 'N_existence', '이외_existence', '상가_count',\n",
       "       '아파트_count', '공공분양_count', '공공임대(10년)_count', '공공임대(50년)_count',\n",
       "       '공공임대(5년)_count', '공공임대(분납)_count', '국민임대_count', '영구임대_count',\n",
       "       '임대상가_count', '장기전세_count', '행복주택_count', 'A_count', 'C_count',\n",
       "       'D_count', 'E_count', 'G_count', 'H_count', 'I_count', 'J_count',\n",
       "       'K_count', 'L_count', 'M_count', 'N_count', '이외_count', '20.0_portion',\n",
       "       '30.0_portion', '40.0_portion', '50.0_portion', '60.0_portion',\n",
       "       '전용면적*전용면적별 세대수', '전용면적*전용면적별 세대수/총 세대수', '호수/총대수', 'men_women_sum',\n",
       "       '지역_강원도', '지역_경기도', '지역_경상남도', '지역_경상북도', '지역_광주광역시', '지역_대구광역시',\n",
       "       '지역_대전광역시', '지역_부산광역시', '지역_서울특별시', '지역_세종특별자치시', '지역_울산광역시', '지역_전라남도',\n",
       "       '지역_전라북도', '지역_제주특별자치도', '지역_충청남도', '지역_충청북도'],\n",
       "      dtype='object')"
      ]
     },
     "execution_count": 893,
     "metadata": {},
     "output_type": "execute_result"
    }
   ],
   "source": [
    "df_agg.columns"
   ]
  },
  {
   "cell_type": "code",
   "execution_count": 894,
   "metadata": {},
   "outputs": [],
   "source": [
    "### 시각화 결과: 희소값, y 값에 영향을 못미칠거 같은 값들 제거\n",
    "cols_to_delete = ['도보 10분거리 내 지하철역 수(환승노선 수 반영)', '아파트_existence' ,'공공분양_existence', '공공임대(5년)_existence', '공공임대(분납)_existence', '장기전세_existence', 'G_existence', 'M_existence', 'N_existence', '이외_existence', '아파트_count','공공분양_count', '공공임대(5년)_count', '공공임대(분납)_count', '장기전세_count', 'G_count', 'M_count', 'N_count', '이외_count' ]"
   ]
  },
  {
   "cell_type": "code",
   "execution_count": 895,
   "metadata": {},
   "outputs": [],
   "source": [
    "df_agg = df_agg.drop(cols_to_delete, axis=1) "
   ]
  },
  {
   "cell_type": "markdown",
   "metadata": {},
   "source": [
    "### target_variable 정규화 "
   ]
  },
  {
   "cell_type": "code",
   "execution_count": 896,
   "metadata": {},
   "outputs": [
    {
     "data": {
      "text/plain": [
       "<matplotlib.axes._subplots.AxesSubplot at 0x7fdc21cb0990>"
      ]
     },
     "execution_count": 896,
     "metadata": {},
     "output_type": "execute_result"
    },
    {
     "data": {
      "image/png": "[encoded data removed]",
      "text/plain": [
       "<Figure size 432x288 with 1 Axes>"
      ]
     },
     "metadata": {},
     "output_type": "display_data"
    }
   ],
   "source": [
    "### outlier 제거\n",
    "sns.boxplot(df_agg['등록차량수'])"
   ]
  },
  {
   "cell_type": "code",
   "execution_count": 897,
   "metadata": {},
   "outputs": [
    {
     "name": "stdout",
     "output_type": "stream",
     "text": [
      "Index(['C1244', 'C1013', 'C2620', 'C1743', 'C1350', 'C1129', 'C1933', 'C2612',\n",
      "       'C1363', 'C1802', 'C1939', 'C2086'],\n",
      "      dtype='object', name='단지코드')\n"
     ]
    }
   ],
   "source": [
    "outlier_index = df_agg[df_agg['등록차량수']>1500].index\n",
    "print(outlier_index)\n",
    "df_agg.drop(outlier_index,inplace=True)\n",
    "train_ids = df_agg[~df_agg.등록차량수.isna()].index"
   ]
  },
  {
   "cell_type": "code",
   "execution_count": 898,
   "metadata": {
    "scrolled": false
   },
   "outputs": [
    {
     "data": {
      "image/png": "[encoded data removed]",
      "text/plain": [
       "<Figure size 576x504 with 1 Axes>"
      ]
     },
     "metadata": {},
     "output_type": "display_data"
    }
   ],
   "source": [
    "f, ax = plt.subplots(figsize=(8, 7))\n",
    "#Check the new distribution \n",
    "sns.distplot(train_agg[target_feature], color=\"b\");\n",
    "ax.xaxis.grid(False)\n",
    "ax.set(ylabel=\"Frequency\")\n",
    "ax.set(xlabel=target_feature)\n",
    "ax.set(title=f\"{target_feature} distribution\")\n",
    "sns.despine(trim=True, left=True)\n",
    "plt.show()"
   ]
  },
  {
   "cell_type": "markdown",
   "metadata": {},
   "source": [
    "### 오른쪽에 꼬리가 있다"
   ]
  },
  {
   "cell_type": "code",
   "execution_count": 899,
   "metadata": {},
   "outputs": [],
   "source": [
    "# log(1+x) transform\n",
    "train_agg[target_feature]= np.sqrt(train_agg[target_feature])"
   ]
  },
  {
   "cell_type": "code",
   "execution_count": 900,
   "metadata": {},
   "outputs": [
    {
     "name": "stdout",
     "output_type": "stream",
     "text": [
      "\n",
      " mu = 22.36 and sigma = 8.01\n",
      "\n"
     ]
    },
    {
     "data": {
      "image/png": "[encoded data removed]",
      "text/plain": [
       "<Figure size 576x504 with 1 Axes>"
      ]
     },
     "metadata": {},
     "output_type": "display_data"
    }
   ],
   "source": [
    "f, ax = plt.subplots(figsize=(8, 7))\n",
    "#Check the new distribution \n",
    "sns.distplot(train_agg[target_feature] , fit=norm, color=\"b\");\n",
    "\n",
    "# Get the fitted parameters used by the function\n",
    "(mu, sigma) = norm.fit(train_agg[target_feature])\n",
    "print( '\\n mu = {:.2f} and sigma = {:.2f}\\n'.format(mu, sigma))\n",
    "\n",
    "#Now plot the distribution\n",
    "plt.legend(['Normal dist. ($\\mu=$ {:.2f} and $\\sigma=$ {:.2f} )'.format(mu, sigma)],\n",
    "            loc='best')\n",
    "ax.xaxis.grid(False)\n",
    "ax.set(ylabel=\"Frequency\")\n",
    "ax.set(xlabel= target_feature)\n",
    "ax.set(title=f\"{target_feature} distribution\")\n",
    "sns.despine(trim=True, left=True)\n",
    "\n",
    "plt.show()"
   ]
  },
  {
   "cell_type": "markdown",
   "metadata": {},
   "source": [
    "### 적용반영\n",
    "df_agg[target_feature]= np.sqrt(df_agg[target_feature])"
   ]
  },
  {
   "cell_type": "markdown",
   "metadata": {},
   "source": [
    "# variable skewness 평가"
   ]
  },
  {
   "cell_type": "code",
   "execution_count": 901,
   "metadata": {},
   "outputs": [],
   "source": [
    "#numeric_features 재계산\n",
    "numeric_features = df_agg.select_dtypes(exclude=\"object\").columns.drop(['등록차량수']).tolist()"
   ]
  },
  {
   "cell_type": "code",
   "execution_count": 902,
   "metadata": {},
   "outputs": [
    {
     "name": "stdout",
     "output_type": "stream",
     "text": [
      "There are 56 numerical features with Skew > 0.5 :\n"
     ]
    },
    {
     "data": {
      "text/plain": [
       "지역_세종특별자치시         13.416613\n",
       "공공임대(50년)_count     9.975497\n",
       "L_count             9.713115\n",
       "K_count             9.647493\n",
       "지역_서울특별시            9.408031\n",
       "K_existence         8.685706\n",
       "E_count             7.677873\n",
       "L_existence         7.205453\n",
       "J_count             6.834563\n",
       "공공임대(10년)_count     6.539548\n",
       "dtype: float64"
      ]
     },
     "execution_count": 902,
     "metadata": {},
     "output_type": "execute_result"
    }
   ],
   "source": [
    "# Find skewed numerical features\n",
    "skew_features = df_agg[numeric_features].apply(lambda x: skew(x)).sort_values(ascending=False)\n",
    "\n",
    "high_skew = skew_features[skew_features > 0.5]\n",
    "skew_index = high_skew.index\n",
    "\n",
    "print(\"There are {} numerical features with Skew > 0.5 :\".format(high_skew.shape[0]))\n",
    "skewness = pd.DataFrame({'Skew' :high_skew})\n",
    "skew_features.head(10)"
   ]
  },
  {
   "cell_type": "code",
   "execution_count": 903,
   "metadata": {},
   "outputs": [],
   "source": [
    "# Normalize skewed features\n",
    "for i in skew_index:\n",
    "    df_agg[i] = boxcox1p(df_agg[i], boxcox_normmax(df_agg[i] + 1))"
   ]
  },
  {
   "cell_type": "markdown",
   "metadata": {},
   "source": [
    "### Create Some more interesting features"
   ]
  },
  {
   "cell_type": "code",
   "execution_count": 904,
   "metadata": {},
   "outputs": [],
   "source": [
    "portion_columns = ['20.0_portion','30.0_portion', '40.0_portion', '50.0_portion', '60.0_portion']\n",
    "for column in portion_columns:\n",
    "    df_agg[column+'*총세대수'] = df_agg[column]*df_agg['총세대수']"
   ]
  },
  {
   "cell_type": "markdown",
   "metadata": {},
   "source": [
    "### log transformation"
   ]
  },
  {
   "cell_type": "code",
   "execution_count": 905,
   "metadata": {},
   "outputs": [
    {
     "data": {
      "text/plain": [
       "Index(['총세대수', '공가수', '도보 10분거리 내 버스정류장 수', '단지내주차면수', '등록차량수', '상가_existence',\n",
       "       '공공임대(10년)_existence', '공공임대(50년)_existence', '국민임대_existence',\n",
       "       '영구임대_existence', '임대상가_existence', '행복주택_existence', 'A_existence',\n",
       "       'C_existence', 'D_existence', 'E_existence', 'H_existence',\n",
       "       'I_existence', 'J_existence', 'K_existence', 'L_existence', '상가_count',\n",
       "       '공공임대(10년)_count', '공공임대(50년)_count', '국민임대_count', '영구임대_count',\n",
       "       '임대상가_count', '행복주택_count', 'A_count', 'C_count', 'D_count', 'E_count',\n",
       "       'H_count', 'I_count', 'J_count', 'K_count', 'L_count', '20.0_portion',\n",
       "       '30.0_portion', '40.0_portion', '50.0_portion', '60.0_portion',\n",
       "       '전용면적*전용면적별 세대수', '전용면적*전용면적별 세대수/총 세대수', '호수/총대수', 'men_women_sum',\n",
       "       '지역_강원도', '지역_경기도', '지역_경상남도', '지역_경상북도', '지역_광주광역시', '지역_대구광역시',\n",
       "       '지역_대전광역시', '지역_부산광역시', '지역_서울특별시', '지역_세종특별자치시', '지역_울산광역시', '지역_전라남도',\n",
       "       '지역_전라북도', '지역_제주특별자치도', '지역_충청남도', '지역_충청북도', '20.0_portion*총세대수',\n",
       "       '30.0_portion*총세대수', '40.0_portion*총세대수', '50.0_portion*총세대수',\n",
       "       '60.0_portion*총세대수'],\n",
       "      dtype='object')"
      ]
     },
     "execution_count": 905,
     "metadata": {},
     "output_type": "execute_result"
    }
   ],
   "source": [
    "df_agg.columns"
   ]
  },
  {
   "cell_type": "code",
   "execution_count": 906,
   "metadata": {},
   "outputs": [],
   "source": [
    "###log_transformation\n",
    "log_columns = ['단지내주차면수', '전용면적*전용면적별 세대수','총세대수','전용면적*전용면적별 세대수/총 세대수', '공가수','20.0_portion*총세대수', '30.0_portion*총세대수', '40.0_portion*총세대수',\n",
    "       '50.0_portion*총세대수', '60.0_portion*총세대수']"
   ]
  },
  {
   "cell_type": "code",
   "execution_count": 907,
   "metadata": {},
   "outputs": [],
   "source": [
    "def logs(res, ls):\n",
    "    m = res.shape[1]\n",
    "    for l in ls:\n",
    "        res = res.assign(newcol=pd.Series(np.log(1.01+res[l])).values)   \n",
    "        res.columns.values[m] = l + '_log'\n",
    "        m += 1\n",
    "    return res\n",
    "\n",
    "\n",
    "df_agg = logs(df_agg, log_columns)"
   ]
  },
  {
   "cell_type": "markdown",
   "metadata": {},
   "source": [
    "###squares_transformation"
   ]
  },
  {
   "cell_type": "code",
   "execution_count": 908,
   "metadata": {},
   "outputs": [],
   "source": [
    "squared_columns=['men_women_sum','호수/총대수', '상가_count',\n",
    "       '공공임대(10년)_count', '공공임대(50년)_count', '국민임대_count', '영구임대_count',\n",
    "       '임대상가_count', '행복주택_count', 'A_count', 'C_count', 'D_count', 'E_count',\n",
    "       'H_count', 'I_count', 'J_count', 'K_count', 'L_count' ]"
   ]
  },
  {
   "cell_type": "code",
   "execution_count": 909,
   "metadata": {},
   "outputs": [],
   "source": [
    "def squares(res, ls):\n",
    "    m = res.shape[1]\n",
    "    for l in ls:\n",
    "        res = res.assign(newcol=pd.Series(res[l]*res[l]).values)   \n",
    "        res.columns.values[m] = l + '_sq'\n",
    "        m += 1\n",
    "    return res \n",
    "\n",
    "df_agg = squares(df_agg, squared_columns)"
   ]
  },
  {
   "cell_type": "markdown",
   "metadata": {},
   "source": [
    "### 전처리 확인 끝"
   ]
  },
  {
   "cell_type": "code",
   "execution_count": 910,
   "metadata": {},
   "outputs": [],
   "source": [
    "#X,y, X_test\n",
    "X=df_agg.loc[train_ids].drop(target_col, axis=1)\n",
    "y=df_agg.loc[train_ids,target_col]\n",
    "X_test= df_agg.loc[test_ids].drop(target_col,axis=1)"
   ]
  },
  {
   "cell_type": "markdown",
   "metadata": {},
   "source": [
    "# ##cross_val_test\n",
    "catb = CatBoostRegressor(\n",
    "    #cat_features=cat_features,\n",
    "    loss_function='MAE',\n",
    "    iterations=1000,\n",
    "    learning_rate=0.05,\n",
    "    verbose=1000\n",
    ")\n",
    "kfold = KFold(10,shuffle=True, random_state=217)\n",
    "val_score = cross_val_score(catb, X, y, cv=kfold, scoring='neg_mean_absolute_error',verbose=1000)\n",
    "print(\"---cross val score---\")\n",
    "print(np.mean(val_score))\n"
   ]
  },
  {
   "cell_type": "code",
   "execution_count": 911,
   "metadata": {},
   "outputs": [],
   "source": [
    "kf = KFold(n_splits=12, random_state=42, shuffle=True)\n",
    "def rmsle(y, y_pred):\n",
    "    return np.sqrt(mean_squared_error(y, y_pred))\n",
    "\n",
    "def cv_rmse(model, X=X):\n",
    "    rmse = np.sqrt(-cross_val_score(model, X, y, scoring=\"neg_mean_squared_error\", cv=kf))\n",
    "    return (rmse)"
   ]
  },
  {
   "cell_type": "code",
   "execution_count": 912,
   "metadata": {},
   "outputs": [],
   "source": [
    "lightgbm = LGBMRegressor(objective='regression', \n",
    "                       num_leaves=10,\n",
    "                       learning_rate=0.05, \n",
    "                       n_estimators=7000,\n",
    "                       max_bin=200, \n",
    "                       bagging_fraction=0.8,\n",
    "                       bagging_freq=4, \n",
    "                       bagging_seed=8,\n",
    "                       feature_fraction=0.2,\n",
    "                       feature_fraction_seed=8,\n",
    "                       min_sum_hessian_in_leaf = 11,\n",
    "                       verbose=-1,\n",
    "                       random_state=42)\n",
    "# lightgbm = LGBMRegressor(objective='regression', \n",
    "#                        verbose=-1,\n",
    "#                        random_state=42)\n",
    "#Catboost Regressor\n",
    "catb = CatBoostRegressor(\n",
    "    #cat_features=cat_features,\n",
    "    loss_function='MAE',\n",
    "    iterations=1000,\n",
    "    learning_rate=0.05,\n",
    "    verbose=1000\n",
    ")\n",
    "# XGBoost Regressor\n",
    "xgboost = XGBRegressor(learning_rate=0.01,\n",
    "                       n_estimators=6000,\n",
    "                       max_depth=4,\n",
    "                       min_child_weight=0,\n",
    "                       gamma=0.6,\n",
    "                       subsample=0.7,\n",
    "                       colsample_bytree=0.7,\n",
    "                       objective='reg:linear',\n",
    "                       nthread=-1,\n",
    "                       scale_pos_weight=1,\n",
    "                       seed=27,\n",
    "                       reg_alpha=0.00006,\n",
    "                       random_state=42)\n",
    "\n",
    "# xgboost = XGBRegressor(colsample_bytree=0.7,\n",
    "#                        objective='reg:linear',\n",
    "#                        nthread=-1,\n",
    "#                        random_state=42)\n",
    "\n",
    "\n",
    "# Ridge Regressor\n",
    "ridge_alphas = [1e-15, 1e-10, 1e-8, 9e-4, 7e-4, 5e-4, 3e-4, 1e-4, 1e-3, 5e-2, 1e-2, 0.1, 0.3, 1, 3, 5, 10, 15, 18, 20, 30, 50, 75, 100]\n",
    "ridge = make_pipeline(RobustScaler(), RidgeCV(alphas=ridge_alphas, cv=kf))\n",
    "\n",
    "\n",
    "\n",
    "# Gradient Boosting Regressor\n",
    "gbr = GradientBoostingRegressor(n_estimators=6000,\n",
    "                                learning_rate=0.01,\n",
    "                                max_depth=4,\n",
    "                                max_features='sqrt',\n",
    "                                min_samples_leaf=15,\n",
    "                                min_samples_split=10,\n",
    "                                loss='huber',\n",
    "                                random_state=42)  \n",
    "# gbr = GradientBoostingRegressor(\n",
    "#                                 random_state=42)  \n",
    "\n",
    "\n",
    "# Random Forest Regressor\n",
    "rf = RandomForestRegressor(n_estimators=1200,\n",
    "                          max_depth=15,\n",
    "                          min_samples_split=5,\n",
    "                          min_samples_leaf=5,\n",
    "                          max_features=None,\n",
    "                          oob_score=True,\n",
    "                          random_state=42)\n",
    "# rf = RandomForestRegressor(\n",
    "#                           oob_score=True,\n",
    "#                           random_state=42)\n",
    "\n",
    "# Stack up all the models above, optimized using xgboost\n",
    "stack_gen = StackingCVRegressor(regressors=(xgboost, lightgbm, ridge, gbr, rf, catb),\n",
    "                                meta_regressor=xgboost,\n",
    "                                use_features_in_secondary=True)"
   ]
  },
  {
   "cell_type": "code",
   "execution_count": 913,
   "metadata": {},
   "outputs": [
    {
     "name": "stdout",
     "output_type": "stream",
     "text": [
      "[LightGBM] [Warning] bagging_freq is set=4, subsample_freq=0 will be ignored. Current value: bagging_freq=4\n",
      "[LightGBM] [Warning] min_sum_hessian_in_leaf is set=11, min_child_weight=0.001 will be ignored. Current value: min_sum_hessian_in_leaf=11\n",
      "[LightGBM] [Warning] feature_fraction is set=0.2, colsample_bytree=1.0 will be ignored. Current value: feature_fraction=0.2\n",
      "[LightGBM] [Warning] bagging_fraction is set=0.8, subsample=1.0 will be ignored. Current value: bagging_fraction=0.8\n",
      "[LightGBM] [Warning] bagging_freq is set=4, subsample_freq=0 will be ignored. Current value: bagging_freq=4\n",
      "[LightGBM] [Warning] min_sum_hessian_in_leaf is set=11, min_child_weight=0.001 will be ignored. Current value: min_sum_hessian_in_leaf=11\n",
      "[LightGBM] [Warning] feature_fraction is set=0.2, colsample_bytree=1.0 will be ignored. Current value: feature_fraction=0.2\n",
      "[LightGBM] [Warning] bagging_fraction is set=0.8, subsample=1.0 will be ignored. Current value: bagging_fraction=0.8\n",
      "[LightGBM] [Warning] bagging_freq is set=4, subsample_freq=0 will be ignored. Current value: bagging_freq=4\n",
      "[LightGBM] [Warning] min_sum_hessian_in_leaf is set=11, min_child_weight=0.001 will be ignored. Current value: min_sum_hessian_in_leaf=11\n",
      "[LightGBM] [Warning] feature_fraction is set=0.2, colsample_bytree=1.0 will be ignored. Current value: feature_fraction=0.2\n",
      "[LightGBM] [Warning] bagging_fraction is set=0.8, subsample=1.0 will be ignored. Current value: bagging_fraction=0.8\n",
      "[LightGBM] [Warning] bagging_freq is set=4, subsample_freq=0 will be ignored. Current value: bagging_freq=4\n",
      "[LightGBM] [Warning] min_sum_hessian_in_leaf is set=11, min_child_weight=0.001 will be ignored. Current value: min_sum_hessian_in_leaf=11\n",
      "[LightGBM] [Warning] feature_fraction is set=0.2, colsample_bytree=1.0 will be ignored. Current value: feature_fraction=0.2\n",
      "[LightGBM] [Warning] bagging_fraction is set=0.8, subsample=1.0 will be ignored. Current value: bagging_fraction=0.8\n",
      "[LightGBM] [Warning] bagging_freq is set=4, subsample_freq=0 will be ignored. Current value: bagging_freq=4\n",
      "[LightGBM] [Warning] min_sum_hessian_in_leaf is set=11, min_child_weight=0.001 will be ignored. Current value: min_sum_hessian_in_leaf=11\n",
      "[LightGBM] [Warning] feature_fraction is set=0.2, colsample_bytree=1.0 will be ignored. Current value: feature_fraction=0.2\n",
      "[LightGBM] [Warning] bagging_fraction is set=0.8, subsample=1.0 will be ignored. Current value: bagging_fraction=0.8\n",
      "[LightGBM] [Warning] bagging_freq is set=4, subsample_freq=0 will be ignored. Current value: bagging_freq=4\n",
      "[LightGBM] [Warning] min_sum_hessian_in_leaf is set=11, min_child_weight=0.001 will be ignored. Current value: min_sum_hessian_in_leaf=11\n",
      "[LightGBM] [Warning] feature_fraction is set=0.2, colsample_bytree=1.0 will be ignored. Current value: feature_fraction=0.2\n",
      "[LightGBM] [Warning] bagging_fraction is set=0.8, subsample=1.0 will be ignored. Current value: bagging_fraction=0.8\n",
      "[LightGBM] [Warning] bagging_freq is set=4, subsample_freq=0 will be ignored. Current value: bagging_freq=4\n",
      "[LightGBM] [Warning] min_sum_hessian_in_leaf is set=11, min_child_weight=0.001 will be ignored. Current value: min_sum_hessian_in_leaf=11\n",
      "[LightGBM] [Warning] feature_fraction is set=0.2, colsample_bytree=1.0 will be ignored. Current value: feature_fraction=0.2\n",
      "[LightGBM] [Warning] bagging_fraction is set=0.8, subsample=1.0 will be ignored. Current value: bagging_fraction=0.8\n",
      "[LightGBM] [Warning] bagging_freq is set=4, subsample_freq=0 will be ignored. Current value: bagging_freq=4\n",
      "[LightGBM] [Warning] min_sum_hessian_in_leaf is set=11, min_child_weight=0.001 will be ignored. Current value: min_sum_hessian_in_leaf=11\n",
      "[LightGBM] [Warning] feature_fraction is set=0.2, colsample_bytree=1.0 will be ignored. Current value: feature_fraction=0.2\n",
      "[LightGBM] [Warning] bagging_fraction is set=0.8, subsample=1.0 will be ignored. Current value: bagging_fraction=0.8\n",
      "[LightGBM] [Warning] bagging_freq is set=4, subsample_freq=0 will be ignored. Current value: bagging_freq=4\n",
      "[LightGBM] [Warning] min_sum_hessian_in_leaf is set=11, min_child_weight=0.001 will be ignored. Current value: min_sum_hessian_in_leaf=11\n",
      "[LightGBM] [Warning] feature_fraction is set=0.2, colsample_bytree=1.0 will be ignored. Current value: feature_fraction=0.2\n",
      "[LightGBM] [Warning] bagging_fraction is set=0.8, subsample=1.0 will be ignored. Current value: bagging_fraction=0.8\n",
      "[LightGBM] [Warning] bagging_freq is set=4, subsample_freq=0 will be ignored. Current value: bagging_freq=4\n",
      "[LightGBM] [Warning] min_sum_hessian_in_leaf is set=11, min_child_weight=0.001 will be ignored. Current value: min_sum_hessian_in_leaf=11\n",
      "[LightGBM] [Warning] feature_fraction is set=0.2, colsample_bytree=1.0 will be ignored. Current value: feature_fraction=0.2\n",
      "[LightGBM] [Warning] bagging_fraction is set=0.8, subsample=1.0 will be ignored. Current value: bagging_fraction=0.8\n",
      "[LightGBM] [Warning] bagging_freq is set=4, subsample_freq=0 will be ignored. Current value: bagging_freq=4\n",
      "[LightGBM] [Warning] min_sum_hessian_in_leaf is set=11, min_child_weight=0.001 will be ignored. Current value: min_sum_hessian_in_leaf=11\n",
      "[LightGBM] [Warning] feature_fraction is set=0.2, colsample_bytree=1.0 will be ignored. Current value: feature_fraction=0.2\n",
      "[LightGBM] [Warning] bagging_fraction is set=0.8, subsample=1.0 will be ignored. Current value: bagging_fraction=0.8\n",
      "[LightGBM] [Warning] bagging_freq is set=4, subsample_freq=0 will be ignored. Current value: bagging_freq=4\n",
      "[LightGBM] [Warning] min_sum_hessian_in_leaf is set=11, min_child_weight=0.001 will be ignored. Current value: min_sum_hessian_in_leaf=11\n",
      "[LightGBM] [Warning] feature_fraction is set=0.2, colsample_bytree=1.0 will be ignored. Current value: feature_fraction=0.2\n",
      "[LightGBM] [Warning] bagging_fraction is set=0.8, subsample=1.0 will be ignored. Current value: bagging_fraction=0.8\n",
      "lightgbm: 177.7333 (27.2368)\n"
     ]
    }
   ],
   "source": [
    "scores = {}\n",
    "\n",
    "score = cv_rmse(lightgbm)\n",
    "print(\"lightgbm: {:.4f} ({:.4f})\".format(score.mean(), score.std()))\n",
    "scores['lgb'] = (score.mean(), score.std())"
   ]
  },
  {
   "cell_type": "code",
   "execution_count": 914,
   "metadata": {},
   "outputs": [
    {
     "name": "stdout",
     "output_type": "stream",
     "text": [
      "[17:30:21] WARNING: /Users/travis/build/dmlc/xgboost/src/objective/regression_obj.cu:171: reg:linear is now deprecated in favor of reg:squarederror.\n",
      "[17:30:30] WARNING: /Users/travis/build/dmlc/xgboost/src/objective/regression_obj.cu:171: reg:linear is now deprecated in favor of reg:squarederror.\n",
      "[17:30:40] WARNING: /Users/travis/build/dmlc/xgboost/src/objective/regression_obj.cu:171: reg:linear is now deprecated in favor of reg:squarederror.\n",
      "[17:30:49] WARNING: /Users/travis/build/dmlc/xgboost/src/objective/regression_obj.cu:171: reg:linear is now deprecated in favor of reg:squarederror.\n",
      "[17:30:59] WARNING: /Users/travis/build/dmlc/xgboost/src/objective/regression_obj.cu:171: reg:linear is now deprecated in favor of reg:squarederror.\n",
      "[17:31:08] WARNING: /Users/travis/build/dmlc/xgboost/src/objective/regression_obj.cu:171: reg:linear is now deprecated in favor of reg:squarederror.\n",
      "[17:31:18] WARNING: /Users/travis/build/dmlc/xgboost/src/objective/regression_obj.cu:171: reg:linear is now deprecated in favor of reg:squarederror.\n",
      "[17:31:27] WARNING: /Users/travis/build/dmlc/xgboost/src/objective/regression_obj.cu:171: reg:linear is now deprecated in favor of reg:squarederror.\n",
      "[17:31:37] WARNING: /Users/travis/build/dmlc/xgboost/src/objective/regression_obj.cu:171: reg:linear is now deprecated in favor of reg:squarederror.\n",
      "[17:31:46] WARNING: /Users/travis/build/dmlc/xgboost/src/objective/regression_obj.cu:171: reg:linear is now deprecated in favor of reg:squarederror.\n",
      "[17:31:56] WARNING: /Users/travis/build/dmlc/xgboost/src/objective/regression_obj.cu:171: reg:linear is now deprecated in favor of reg:squarederror.\n",
      "[17:32:05] WARNING: /Users/travis/build/dmlc/xgboost/src/objective/regression_obj.cu:171: reg:linear is now deprecated in favor of reg:squarederror.\n",
      "xgboost: 158.2835 (27.3319)\n"
     ]
    }
   ],
   "source": [
    "score = cv_rmse(xgboost)\n",
    "print(\"xgboost: {:.4f} ({:.4f})\".format(score.mean(), score.std()))\n",
    "scores['xgb'] = (score.mean(), score.std())"
   ]
  },
  {
   "cell_type": "code",
   "execution_count": 915,
   "metadata": {},
   "outputs": [
    {
     "name": "stdout",
     "output_type": "stream",
     "text": [
      "ridge: 151.4926 (25.6831)\n"
     ]
    }
   ],
   "source": [
    "score = cv_rmse(ridge)\n",
    "print(\"ridge: {:.4f} ({:.4f})\".format(score.mean(), score.std()))\n",
    "scores['ridge'] = (score.mean(), score.std())"
   ]
  },
  {
   "cell_type": "code",
   "execution_count": 916,
   "metadata": {},
   "outputs": [
    {
     "name": "stdout",
     "output_type": "stream",
     "text": [
      "rf: 155.0569 (28.8992)\n"
     ]
    }
   ],
   "source": [
    "score = cv_rmse(rf)\n",
    "print(\"rf: {:.4f} ({:.4f})\".format(score.mean(), score.std()))\n",
    "scores['rf'] = (score.mean(), score.std())"
   ]
  },
  {
   "cell_type": "code",
   "execution_count": 917,
   "metadata": {},
   "outputs": [
    {
     "name": "stdout",
     "output_type": "stream",
     "text": [
      "gbr: 165.9055 (25.3210)\n"
     ]
    }
   ],
   "source": [
    "score = cv_rmse(gbr)\n",
    "print(\"gbr: {:.4f} ({:.4f})\".format(score.mean(), score.std()))\n",
    "scores['gbr'] = (score.mean(), score.std())"
   ]
  },
  {
   "cell_type": "code",
   "execution_count": 918,
   "metadata": {},
   "outputs": [
    {
     "name": "stdout",
     "output_type": "stream",
     "text": [
      "0:\tlearn: 246.5173962\ttotal: 1.07ms\tremaining: 1.07s\n",
      "999:\tlearn: 14.3613368\ttotal: 2.41s\tremaining: 0us\n",
      "0:\tlearn: 251.0442454\ttotal: 3.32ms\tremaining: 3.31s\n",
      "999:\tlearn: 13.8303673\ttotal: 2.3s\tremaining: 0us\n",
      "0:\tlearn: 242.9964372\ttotal: 2.51ms\tremaining: 2.51s\n",
      "999:\tlearn: 15.1597368\ttotal: 2.44s\tremaining: 0us\n",
      "0:\tlearn: 240.6837421\ttotal: 982us\tremaining: 982ms\n",
      "999:\tlearn: 12.7023488\ttotal: 2.48s\tremaining: 0us\n",
      "0:\tlearn: 247.4428951\ttotal: 2.43ms\tremaining: 2.43s\n",
      "999:\tlearn: 14.9958100\ttotal: 2.38s\tremaining: 0us\n",
      "0:\tlearn: 250.0443978\ttotal: 2.22ms\tremaining: 2.21s\n",
      "999:\tlearn: 14.2179889\ttotal: 2.4s\tremaining: 0us\n",
      "0:\tlearn: 250.2536874\ttotal: 2.25ms\tremaining: 2.24s\n",
      "999:\tlearn: 13.9944159\ttotal: 2.38s\tremaining: 0us\n",
      "0:\tlearn: 245.4778677\ttotal: 2.24ms\tremaining: 2.24s\n",
      "999:\tlearn: 14.5346841\ttotal: 2.38s\tremaining: 0us\n",
      "0:\tlearn: 243.3685781\ttotal: 2.33ms\tremaining: 2.33s\n",
      "999:\tlearn: 14.3722008\ttotal: 2.39s\tremaining: 0us\n",
      "0:\tlearn: 245.8561464\ttotal: 2.05ms\tremaining: 2.05s\n",
      "999:\tlearn: 13.9966540\ttotal: 2.32s\tremaining: 0us\n",
      "0:\tlearn: 239.6725399\ttotal: 2.22ms\tremaining: 2.21s\n",
      "999:\tlearn: 14.1204057\ttotal: 2.48s\tremaining: 0us\n",
      "0:\tlearn: 243.1707639\ttotal: 2.44ms\tremaining: 2.43s\n",
      "999:\tlearn: 12.7161132\ttotal: 2.42s\tremaining: 0us\n",
      "catb: 152.8466 (24.6264)\n"
     ]
    }
   ],
   "source": [
    "score = cv_rmse(catb)\n",
    "print(\"catb: {:.4f} ({:.4f})\".format(score.mean(), score.std()))\n",
    "scores['catb'] = (score.mean(), score.std())"
   ]
  },
  {
   "cell_type": "markdown",
   "metadata": {},
   "source": [
    "### fit the models"
   ]
  },
  {
   "cell_type": "code",
   "execution_count": 919,
   "metadata": {},
   "outputs": [
    {
     "name": "stdout",
     "output_type": "stream",
     "text": [
      "stack_gen\n",
      "[17:35:39] WARNING: /Users/travis/build/dmlc/xgboost/src/objective/regression_obj.cu:171: reg:linear is now deprecated in favor of reg:squarederror.\n",
      "[17:35:44] WARNING: /Users/travis/build/dmlc/xgboost/src/objective/regression_obj.cu:171: reg:linear is now deprecated in favor of reg:squarederror.\n",
      "[17:35:50] WARNING: /Users/travis/build/dmlc/xgboost/src/objective/regression_obj.cu:171: reg:linear is now deprecated in favor of reg:squarederror.\n",
      "[17:35:55] WARNING: /Users/travis/build/dmlc/xgboost/src/objective/regression_obj.cu:171: reg:linear is now deprecated in favor of reg:squarederror.\n",
      "[17:36:00] WARNING: /Users/travis/build/dmlc/xgboost/src/objective/regression_obj.cu:171: reg:linear is now deprecated in favor of reg:squarederror.\n",
      "[LightGBM] [Warning] bagging_freq is set=4, subsample_freq=0 will be ignored. Current value: bagging_freq=4\n",
      "[LightGBM] [Warning] min_sum_hessian_in_leaf is set=11, min_child_weight=0.001 will be ignored. Current value: min_sum_hessian_in_leaf=11\n",
      "[LightGBM] [Warning] feature_fraction is set=0.2, colsample_bytree=1.0 will be ignored. Current value: feature_fraction=0.2\n",
      "[LightGBM] [Warning] bagging_fraction is set=0.8, subsample=1.0 will be ignored. Current value: bagging_fraction=0.8\n",
      "[LightGBM] [Warning] bagging_freq is set=4, subsample_freq=0 will be ignored. Current value: bagging_freq=4\n",
      "[LightGBM] [Warning] min_sum_hessian_in_leaf is set=11, min_child_weight=0.001 will be ignored. Current value: min_sum_hessian_in_leaf=11\n",
      "[LightGBM] [Warning] feature_fraction is set=0.2, colsample_bytree=1.0 will be ignored. Current value: feature_fraction=0.2\n",
      "[LightGBM] [Warning] bagging_fraction is set=0.8, subsample=1.0 will be ignored. Current value: bagging_fraction=0.8\n",
      "[LightGBM] [Warning] bagging_freq is set=4, subsample_freq=0 will be ignored. Current value: bagging_freq=4\n",
      "[LightGBM] [Warning] min_sum_hessian_in_leaf is set=11, min_child_weight=0.001 will be ignored. Current value: min_sum_hessian_in_leaf=11\n",
      "[LightGBM] [Warning] feature_fraction is set=0.2, colsample_bytree=1.0 will be ignored. Current value: feature_fraction=0.2\n",
      "[LightGBM] [Warning] bagging_fraction is set=0.8, subsample=1.0 will be ignored. Current value: bagging_fraction=0.8\n",
      "[LightGBM] [Warning] bagging_freq is set=4, subsample_freq=0 will be ignored. Current value: bagging_freq=4\n",
      "[LightGBM] [Warning] min_sum_hessian_in_leaf is set=11, min_child_weight=0.001 will be ignored. Current value: min_sum_hessian_in_leaf=11\n",
      "[LightGBM] [Warning] feature_fraction is set=0.2, colsample_bytree=1.0 will be ignored. Current value: feature_fraction=0.2\n",
      "[LightGBM] [Warning] bagging_fraction is set=0.8, subsample=1.0 will be ignored. Current value: bagging_fraction=0.8\n",
      "[LightGBM] [Warning] bagging_freq is set=4, subsample_freq=0 will be ignored. Current value: bagging_freq=4\n",
      "[LightGBM] [Warning] min_sum_hessian_in_leaf is set=11, min_child_weight=0.001 will be ignored. Current value: min_sum_hessian_in_leaf=11\n",
      "[LightGBM] [Warning] feature_fraction is set=0.2, colsample_bytree=1.0 will be ignored. Current value: feature_fraction=0.2\n",
      "[LightGBM] [Warning] bagging_fraction is set=0.8, subsample=1.0 will be ignored. Current value: bagging_fraction=0.8\n",
      "0:\tlearn: 247.2510961\ttotal: 3.35ms\tremaining: 3.35s\n",
      "999:\tlearn: 12.0555370\ttotal: 2.07s\tremaining: 0us\n",
      "0:\tlearn: 244.2371462\ttotal: 2.62ms\tremaining: 2.62s\n",
      "999:\tlearn: 12.9317511\ttotal: 2.15s\tremaining: 0us\n",
      "0:\tlearn: 243.9076791\ttotal: 2.67ms\tremaining: 2.67s\n",
      "999:\tlearn: 12.0416511\ttotal: 2.22s\tremaining: 0us\n",
      "0:\tlearn: 246.2208453\ttotal: 2.52ms\tremaining: 2.51s\n",
      "999:\tlearn: 11.2653338\ttotal: 2.29s\tremaining: 0us\n",
      "0:\tlearn: 244.6598426\ttotal: 2.52ms\tremaining: 2.51s\n",
      "999:\tlearn: 10.3733913\ttotal: 2.25s\tremaining: 0us\n",
      "[17:37:35] WARNING: /Users/travis/build/dmlc/xgboost/src/objective/regression_obj.cu:171: reg:linear is now deprecated in favor of reg:squarederror.\n",
      "[17:37:41] WARNING: /Users/travis/build/dmlc/xgboost/src/objective/regression_obj.cu:171: reg:linear is now deprecated in favor of reg:squarederror.\n",
      "[LightGBM] [Warning] bagging_freq is set=4, subsample_freq=0 will be ignored. Current value: bagging_freq=4\n",
      "[LightGBM] [Warning] min_sum_hessian_in_leaf is set=11, min_child_weight=0.001 will be ignored. Current value: min_sum_hessian_in_leaf=11\n",
      "[LightGBM] [Warning] feature_fraction is set=0.2, colsample_bytree=1.0 will be ignored. Current value: feature_fraction=0.2\n",
      "[LightGBM] [Warning] bagging_fraction is set=0.8, subsample=1.0 will be ignored. Current value: bagging_fraction=0.8\n",
      "0:\tlearn: 245.5657884\ttotal: 3.21ms\tremaining: 3.21s\n",
      "999:\tlearn: 16.4558293\ttotal: 2.38s\tremaining: 0us\n"
     ]
    }
   ],
   "source": [
    "print('stack_gen')\n",
    "stack_gen_model = stack_gen.fit(np.array(X), y)"
   ]
  },
  {
   "cell_type": "code",
   "execution_count": 920,
   "metadata": {},
   "outputs": [
    {
     "name": "stdout",
     "output_type": "stream",
     "text": [
      "lightgbm\n"
     ]
    }
   ],
   "source": [
    "print('lightgbm')\n",
    "lgb_model_full_data = lightgbm.fit(X, y)"
   ]
  },
  {
   "cell_type": "code",
   "execution_count": 921,
   "metadata": {},
   "outputs": [
    {
     "name": "stdout",
     "output_type": "stream",
     "text": [
      "xgboost\n",
      "[17:38:10] WARNING: /Users/travis/build/dmlc/xgboost/src/objective/regression_obj.cu:171: reg:linear is now deprecated in favor of reg:squarederror.\n"
     ]
    }
   ],
   "source": [
    "print('xgboost')\n",
    "xgb_model_full_data = xgboost.fit(X, y)"
   ]
  },
  {
   "cell_type": "code",
   "execution_count": 922,
   "metadata": {},
   "outputs": [
    {
     "name": "stdout",
     "output_type": "stream",
     "text": [
      "Ridge\n"
     ]
    }
   ],
   "source": [
    "print('Ridge')\n",
    "ridge_model_full_data = ridge.fit(X, y)"
   ]
  },
  {
   "cell_type": "code",
   "execution_count": 923,
   "metadata": {},
   "outputs": [
    {
     "name": "stdout",
     "output_type": "stream",
     "text": [
      "RandomForest\n"
     ]
    }
   ],
   "source": [
    "print('RandomForest')\n",
    "rf_model_full_data = rf.fit(X, y)"
   ]
  },
  {
   "cell_type": "code",
   "execution_count": 924,
   "metadata": {},
   "outputs": [
    {
     "name": "stdout",
     "output_type": "stream",
     "text": [
      "GradientBoosting\n"
     ]
    }
   ],
   "source": [
    "print('GradientBoosting')\n",
    "gbr_model_full_data = gbr.fit(X, y)"
   ]
  },
  {
   "cell_type": "code",
   "execution_count": 925,
   "metadata": {},
   "outputs": [
    {
     "name": "stdout",
     "output_type": "stream",
     "text": [
      "Catboost\n",
      "0:\tlearn: 245.5657884\ttotal: 2.01ms\tremaining: 2.01s\n",
      "999:\tlearn: 16.4558293\ttotal: 2.49s\tremaining: 0us\n"
     ]
    }
   ],
   "source": [
    "print('Catboost')\n",
    "catboost_model_full_data = catb.fit(X, y)"
   ]
  },
  {
   "cell_type": "code",
   "execution_count": 926,
   "metadata": {},
   "outputs": [],
   "source": [
    "def blended_predictions(X):\n",
    "    return ((0.1 * ridge_model_full_data.predict(X))[:,0] + \\\n",
    "            (0.1 * catboost_model_full_data.predict(X)) + \\\n",
    "            (0.1 * gbr_model_full_data.predict(X)) + \\\n",
    "            (0.1 * xgb_model_full_data.predict(X)) + \\\n",
    "            (0.1 * lgb_model_full_data.predict(X)) + \\\n",
    "            (0.1 * rf_model_full_data.predict(X)) + \\\n",
    "            (0.4 * stack_gen_model.predict(np.array(X))))"
   ]
  },
  {
   "cell_type": "code",
   "execution_count": 927,
   "metadata": {},
   "outputs": [
    {
     "name": "stdout",
     "output_type": "stream",
     "text": [
      "RMSLE score on train data:\n",
      "59.89688920293201\n"
     ]
    }
   ],
   "source": [
    "# Get final precitions from the blended model\n",
    "blended_score = rmsle(y, blended_predictions(X))\n",
    "scores['blended'] = (blended_score, 0)\n",
    "print('RMSLE score on train data:')\n",
    "print(blended_score)"
   ]
  },
  {
   "cell_type": "code",
   "execution_count": 928,
   "metadata": {},
   "outputs": [
    {
     "data": {
      "image/png": "[encoded data removed]",
      "text/plain": [
       "<Figure size 1728x864 with 1 Axes>"
      ]
     },
     "metadata": {},
     "output_type": "display_data"
    }
   ],
   "source": [
    "# Plot the predictions for each model\n",
    "sns.set_style(\"white\")\n",
    "fig = plt.figure(figsize=(24, 12))\n",
    "\n",
    "ax = sns.pointplot(x=list(scores.keys()), y=[score for score, _ in scores.values()], markers=['o'], linestyles=['-'])\n",
    "for i, score in enumerate(scores.values()):\n",
    "    ax.text(i, score[0] + 0.002, '{:.6f}'.format(score[0]), horizontalalignment='left', size='large', color='black', weight='semibold')\n",
    "\n",
    "plt.ylabel('Score (RMSE)', size=20, labelpad=12.5)\n",
    "plt.xlabel('Model', size=20, labelpad=12.5)\n",
    "plt.tick_params(axis='x', labelsize=13.5)\n",
    "plt.tick_params(axis='y', labelsize=12.5)\n",
    "\n",
    "plt.title('Scores of Models', size=20)\n",
    "\n",
    "plt.show()"
   ]
  },
  {
   "cell_type": "code",
   "execution_count": 929,
   "metadata": {},
   "outputs": [],
   "source": [
    "sample_submission['num'] =  blended_predictions(X_test)"
   ]
  },
  {
   "cell_type": "code",
   "execution_count": 930,
   "metadata": {},
   "outputs": [
    {
     "data": {
      "text/plain": [
       "524.8606389170001"
      ]
     },
     "execution_count": 930,
     "metadata": {},
     "output_type": "execute_result"
    }
   ],
   "source": [
    "np.mean(sample_submission['num'])"
   ]
  },
  {
   "cell_type": "code",
   "execution_count": 931,
   "metadata": {},
   "outputs": [
    {
     "data": {
      "text/plain": [
       "<matplotlib.axes._subplots.AxesSubplot at 0x7fdc12886e50>"
      ]
     },
     "execution_count": 931,
     "metadata": {},
     "output_type": "execute_result"
    },
    {
     "data": {
      "image/png": "[encoded data removed]",
      "text/plain": [
       "<Figure size 432x288 with 1 Axes>"
      ]
     },
     "metadata": {},
     "output_type": "display_data"
    }
   ],
   "source": [
    "sns.boxplot(sample_submission['num'])"
   ]
  },
  {
   "cell_type": "code",
   "execution_count": 932,
   "metadata": {},
   "outputs": [],
   "source": [
    "sample_submission.to_csv(\"submission_regression1.csv\", index=False)"
   ]
  },
  {
   "cell_type": "markdown",
   "metadata": {},
   "source": [
    "# Fix outleir predictions\n",
    "q2 = sample_submission['num'].quantile(0.99)\n",
    "sample_submission['num'] = sample_submission['num'].apply(lambda x: x if x > q1 else x*0.7)\n",
    "sample_submission.to_csv(\"submission_regression2.csv\", index=False)"
   ]
  },
  {
   "cell_type": "markdown",
   "metadata": {},
   "source": [
    "scale = np.mean( np.expm1(y)) / np.mean(sample_submission['num'])"
   ]
  },
  {
   "cell_type": "markdown",
   "metadata": {},
   "source": [
    "sample_submission['num']*=1.001619"
   ]
  },
  {
   "cell_type": "markdown",
   "metadata": {},
   "source": [
    "sample_submission.to_csv(\"submission_regression3.csv\", index=False)"
   ]
  }
 ],
 "metadata": {
  "kernelspec": {
   "display_name": "Python 3",
   "language": "python",
   "name": "python3"
  },
  "language_info": {
   "codemirror_mode": {
    "name": "ipython",
    "version": 3
   },
   "file_extension": ".py",
   "mimetype": "text/x-python",
   "name": "python",
   "nbconvert_exporter": "python",
   "pygments_lexer": "ipython3",
   "version": "3.7.6"
  }
 },
 "nbformat": 4,
 "nbformat_minor": 4
}
